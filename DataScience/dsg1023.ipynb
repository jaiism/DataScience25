{
 "cells": [
  {
   "cell_type": "code",
   "execution_count": 54,
   "id": "d086bc4a",
   "metadata": {},
   "outputs": [
    {
     "name": "stdout",
     "output_type": "stream",
     "text": [
      "hello world\n",
      "dsg1023\n"
     ]
    }
   ],
   "source": [
    "print(\"hello world\")\n",
    "print(\"dsg1023\")"
   ]
  },
  {
   "cell_type": "markdown",
   "id": "33321095",
   "metadata": {},
   "source": []
  },
  {
   "cell_type": "markdown",
   "id": "76e209b7",
   "metadata": {},
   "source": [
    "10+15"
   ]
  },
  {
   "cell_type": "code",
   "execution_count": 32,
   "id": "5f5cdab8",
   "metadata": {},
   "outputs": [
    {
     "name": "stdout",
     "output_type": "stream",
     "text": [
      "JAI\n"
     ]
    }
   ],
   "source": [
    "print(\"JAI\")"
   ]
  },
  {
   "cell_type": "code",
   "execution_count": null,
   "id": "4e3c0011",
   "metadata": {},
   "outputs": [],
   "source": []
  },
  {
   "cell_type": "code",
   "execution_count": null,
   "id": "01bf3bf2",
   "metadata": {},
   "outputs": [],
   "source": []
  },
  {
   "cell_type": "code",
   "execution_count": 11,
   "id": "261cf990",
   "metadata": {},
   "outputs": [
    {
     "ename": "SyntaxError",
     "evalue": "invalid syntax (99019884.py, line 1)",
     "output_type": "error",
     "traceback": [
      "\u001b[1;36m  Cell \u001b[1;32mIn[11], line 1\u001b[1;36m\u001b[0m\n\u001b[1;33m    25-10``\u001b[0m\n\u001b[1;37m         ^\u001b[0m\n\u001b[1;31mSyntaxError\u001b[0m\u001b[1;31m:\u001b[0m invalid syntax\n"
     ]
    }
   ],
   "source": [
    "25-10``"
   ]
  },
  {
   "cell_type": "code",
   "execution_count": 16,
   "id": "167b9410",
   "metadata": {},
   "outputs": [
    {
     "ename": "NameError",
     "evalue": "name 'ctrl' is not defined",
     "output_type": "error",
     "traceback": [
      "\u001b[1;31m---------------------------------------------------------------------------\u001b[0m",
      "\u001b[1;31mNameError\u001b[0m                                 Traceback (most recent call last)",
      "Cell \u001b[1;32mIn[16], line 1\u001b[0m\n\u001b[1;32m----> 1\u001b[0m ctrl\u001b[38;5;241m+\u001b[39menter\n",
      "\u001b[1;31mNameError\u001b[0m: name 'ctrl' is not defined"
     ]
    }
   ],
   "source": [
    "ctrl+enter"
   ]
  },
  {
   "cell_type": "code",
   "execution_count": null,
   "id": "9e95152f",
   "metadata": {},
   "outputs": [],
   "source": []
  },
  {
   "cell_type": "code",
   "execution_count": null,
   "id": "5052999f",
   "metadata": {},
   "outputs": [],
   "source": []
  }
 ],
 "metadata": {
  "kernelspec": {
   "display_name": "Python 3 (ipykernel)",
   "language": "python",
   "name": "python3"
  },
  "language_info": {
   "codemirror_mode": {
    "name": "ipython",
    "version": 3
   },
   "file_extension": ".py",
   "mimetype": "text/x-python",
   "name": "python",
   "nbconvert_exporter": "python",
   "pygments_lexer": "ipython3",
   "version": "3.11.5"
  }
 },
 "nbformat": 4,
 "nbformat_minor": 5
}
